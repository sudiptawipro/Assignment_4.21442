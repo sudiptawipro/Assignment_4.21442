{
 "cells": [
  {
   "cell_type": "markdown",
   "metadata": {},
   "source": [
    "### Write a function to find moving average in an array over a window: \n",
    " \n",
    "    Test it over [3, 5, 7, 2, 8, 10, 11, 65, 72, 81, 99, 100, 150] and window of 3. "
   ]
  },
  {
   "cell_type": "code",
   "execution_count": 35,
   "metadata": {
    "collapsed": false
   },
   "outputs": [],
   "source": [
    "def moving_avg(lst,window):\n",
    "    \n",
    "    arr=np.array(lst)\n",
    "    m = 0\n",
    "    n = int(window)\n",
    "    arravg=[]\n",
    "    \n",
    "    for i in range(len(arr) - (window-1)):\n",
    "        arravg.append(np.average(arr[m:n]))\n",
    "        m = m +1  \n",
    "        n = n + 1\n",
    "        \n",
    "    print(arravg)\n",
    "        \n",
    "    "
   ]
  },
  {
   "cell_type": "code",
   "execution_count": 33,
   "metadata": {
    "collapsed": false
   },
   "outputs": [
    {
     "name": "stdout",
     "output_type": "stream",
     "text": [
      "[5.0, 4.666666666666667, 5.666666666666667, 6.666666666666667, 9.6666666666666661, 28.666666666666668, 49.333333333333336, 72.666666666666671, 84.0, 93.333333333333329, 116.33333333333333]\n"
     ]
    }
   ],
   "source": [
    "moving_avg([3, 5, 7, 2, 8, 10, 11, 65, 72, 81, 99, 100, 150],3)"
   ]
  },
  {
   "cell_type": "code",
   "execution_count": 36,
   "metadata": {
    "collapsed": false
   },
   "outputs": [
    {
     "name": "stdout",
     "output_type": "stream",
     "text": [
      "[2.0, 3.0, 4.0]\n"
     ]
    }
   ],
   "source": [
    "moving_avg([1,2,3,4,5],3)"
   ]
  },
  {
   "cell_type": "code",
   "execution_count": 38,
   "metadata": {
    "collapsed": false
   },
   "outputs": [
    {
     "name": "stdout",
     "output_type": "stream",
     "text": [
      "[25.0, 35.0, 45.0, 55.0, 65.0, 75.0, 85.0]\n"
     ]
    }
   ],
   "source": [
    "moving_avg([10,20,30,40,50,60,70,80,90,100],4)"
   ]
  }
 ],
 "metadata": {
  "anaconda-cloud": {},
  "kernelspec": {
   "display_name": "Python [default]",
   "language": "python",
   "name": "python3"
  },
  "language_info": {
   "codemirror_mode": {
    "name": "ipython",
    "version": 3
   },
   "file_extension": ".py",
   "mimetype": "text/x-python",
   "name": "python",
   "nbconvert_exporter": "python",
   "pygments_lexer": "ipython3",
   "version": "3.5.5"
  }
 },
 "nbformat": 4,
 "nbformat_minor": 1
}
